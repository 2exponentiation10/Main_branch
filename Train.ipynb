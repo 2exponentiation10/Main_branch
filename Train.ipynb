{
 "cells": [
  {
   "cell_type": "markdown",
   "metadata": {},
   "source": [
    "# 모델 선택 및 학습\n",
    "## 모델 선택"
   ]
  },
  {
   "cell_type": "code",
   "execution_count": 1,
   "metadata": {},
   "outputs": [],
   "source": [
    "import os\n",
    "import tensorflow as tf\n",
    "# GPU 메모리 사용 점진적 할당 설정\n",
    "gpus = tf.config.experimental.list_physical_devices('GPU')\n",
    "if gpus:\n",
    "    try:\n",
    "        for gpu in gpus:\n",
    "            tf.config.experimental.set_memory_growth(gpu, True)\n",
    "    except RuntimeError as e:\n",
    "        print(e)"
   ]
  },
  {
   "cell_type": "code",
   "execution_count": 2,
   "metadata": {},
   "outputs": [],
   "source": [
    "# 테스트 환경 속 설정 변수\n",
    "epochs = 20\n",
    "batch_size = 32\n",
    "validation_split = 0.2"
   ]
  },
  {
   "cell_type": "code",
   "execution_count": 3,
   "metadata": {},
   "outputs": [
    {
     "name": "stdout",
     "output_type": "stream",
     "text": [
      "토크나이저 단어 개수: 43385\n",
      "X_data 크기: (4552, 300)\n",
      "y_data 크기: (4552,)\n"
     ]
    }
   ],
   "source": [
    "import numpy as np\n",
    "import pandas as pd\n",
    "import re\n",
    "from sklearn.preprocessing import LabelEncoder\n",
    "from tensorflow.keras.preprocessing.sequence import pad_sequences\n",
    "from tensorflow.keras.preprocessing.text import Tokenizer\n",
    "\n",
    "# 파일 경로 설정\n",
    "train_file_path = 'Data/processed_train2.csv'\n",
    "test_file_path = 'Data/processed_test2.csv'\n",
    "train_data = pd.read_csv(train_file_path)\n",
    "test_data = pd.read_csv(test_file_path)\n",
    "\n",
    "\n",
    "# 텍스트 정제 함수\n",
    "def clean_text(text):\n",
    "    text = re.sub(r'\\s+', ' ', text)  # 다중 공백 제거\n",
    "    text = re.sub(r'[^\\w\\s]', '', text)  # 특수 문자 제거\n",
    "    return text.strip()\n",
    "\n",
    "train_data['cleaned_conversation'] = train_data['conversation'].apply(clean_text)\n",
    "train_data['text_length'] = train_data['cleaned_conversation'].apply(len)\n",
    "\n",
    "# 토크나이저 설정\n",
    "tokenizer = Tokenizer()\n",
    "tokenizer.fit_on_texts(train_data['cleaned_conversation'])\n",
    "\n",
    "# 시퀀스 변환 및 패딩\n",
    "sequences = tokenizer.texts_to_sequences(train_data['cleaned_conversation'])\n",
    "max_length = 300\n",
    "X_data = pad_sequences(sequences, maxlen=max_length, padding='post')\n",
    "\n",
    "# 레이블 인코딩\n",
    "label_encoder = LabelEncoder()\n",
    "y_data = label_encoder.fit_transform(train_data['class'])\n",
    "\n",
    "# 결과 확인\n",
    "print('토크나이저 단어 개수:', len(tokenizer.word_index))\n",
    "print('X_data 크기:', X_data.shape)\n",
    "print('y_data 크기:', y_data.shape)"
   ]
  },
  {
   "cell_type": "code",
   "execution_count": 4,
   "metadata": {},
   "outputs": [],
   "source": [
    "padded_sequences = X_data\n",
    "labels = y_data"
   ]
  },
  {
   "cell_type": "markdown",
   "metadata": {},
   "source": [
    "## klue/roberta-base"
   ]
  },
  {
   "cell_type": "code",
   "execution_count": 5,
   "metadata": {},
   "outputs": [
    {
     "name": "stdout",
     "output_type": "stream",
     "text": [
      "Model: \"model\"\n",
      "_________________________________________________________________\n",
      "Layer (type)                 Output Shape              Param #   \n",
      "=================================================================\n",
      "input (InputLayer)           [(None, 300)]             0         \n",
      "_________________________________________________________________\n",
      "embedding (Embedding)        (None, 300, 128)          5553408   \n",
      "_________________________________________________________________\n",
      "lstm (LSTM)                  (None, 64)                49408     \n",
      "_________________________________________________________________\n",
      "output (Dense)               (None, 4)                 260       \n",
      "=================================================================\n",
      "Total params: 5,603,076\n",
      "Trainable params: 5,603,076\n",
      "Non-trainable params: 0\n",
      "_________________________________________________________________\n"
     ]
    }
   ],
   "source": [
    "from transformers import pipeline\n",
    "from tensorflow.keras.layers import Input, Dense\n",
    "from tensorflow.keras.models import Model\n",
    "from sklearn.model_selection import train_test_split\n",
    "import pandas as pd\n",
    "import numpy as np\n",
    "import tensorflow as tf\n",
    "from sklearn.preprocessing import LabelEncoder\n",
    "\n",
    "# 로버타 모델과 토그나이저 설정\n",
    "pipe = pipeline('text-classification', model='klue/roberta-base-nli')\n",
    "\n",
    "tokenizer = pipe.tokenizer\n",
    "\n",
    "# 데이터 전처리 함수\n",
    "def encode_texts(texts, max_length=128):\n",
    "    inputs = tokenizer(texts.tolist(), max_length=max_length, padding='max_length', truncation=True, return_tensors='tf')\n",
    "    return inputs.data\n",
    "\n",
    "# 데이터 로드 및 전처리\n",
    "texts = train_data['cleaned_conversation'].tolist()\n",
    "labels = train_data['class'].tolist()\n",
    "\n",
    "X_train, X_val, y_train, y_val = train_test_split(texts, labels, test_size=0.2, random_state=42)\n",
    "\n",
    "X_train_encoded = encode_texts(X_train)\n",
    "X_val_encoded = encode_texts(X_val)\n",
    "\n",
    "# 모델 구성\n",
    "input_ids = Input(shape=(128,), name='input_ids', dtype='int32')\n",
    "attention_mask = Input(shape=(128,), name='attention_mask', dtype='int32')\n",
    "\n",
    "roberta_output = pipe(input_ids, attention_mask)\n",
    "\n",
    "output = Dense(7, activation='softmax')(roberta_output[0][:, 0, :])\n",
    "\n",
    "model = Model(inputs=[input_ids, attention_mask], outputs=output)\n",
    "\n",
    "# 모델 컴파일\n",
    "model.compile(optimizer='adam', loss='sparse_categorical_crossentropy', metrics=['accuracy'])\n",
    "\n",
    "model.summary()\n"
   ]
  },
  {
   "cell_type": "code",
   "execution_count": 6,
   "metadata": {},
   "outputs": [
    {
     "name": "stdout",
     "output_type": "stream",
     "text": [
      "Epoch 1/20\n",
      "114/114 [==============================] - 6s 17ms/step - loss: nan - accuracy: 0.1925 - val_loss: nan - val_accuracy: 0.2097\n",
      "Epoch 2/20\n",
      "114/114 [==============================] - 1s 13ms/step - loss: nan - accuracy: 0.1925 - val_loss: nan - val_accuracy: 0.2097\n",
      "Epoch 3/20\n",
      "114/114 [==============================] - 2s 13ms/step - loss: nan - accuracy: 0.1925 - val_loss: nan - val_accuracy: 0.2097\n",
      "Epoch 4/20\n",
      "114/114 [==============================] - 2s 13ms/step - loss: nan - accuracy: 0.1925 - val_loss: nan - val_accuracy: 0.2097\n",
      "Epoch 5/20\n",
      "114/114 [==============================] - 2s 13ms/step - loss: nan - accuracy: 0.1925 - val_loss: nan - val_accuracy: 0.2097\n",
      "Epoch 6/20\n",
      "114/114 [==============================] - 2s 13ms/step - loss: nan - accuracy: 0.1925 - val_loss: nan - val_accuracy: 0.2097\n",
      "Epoch 7/20\n",
      "114/114 [==============================] - 2s 13ms/step - loss: nan - accuracy: 0.1925 - val_loss: nan - val_accuracy: 0.2097\n",
      "Epoch 8/20\n",
      "114/114 [==============================] - 2s 13ms/step - loss: nan - accuracy: 0.1925 - val_loss: nan - val_accuracy: 0.2097\n",
      "Epoch 9/20\n",
      "114/114 [==============================] - 2s 13ms/step - loss: nan - accuracy: 0.1925 - val_loss: nan - val_accuracy: 0.2097\n",
      "Epoch 10/20\n",
      "114/114 [==============================] - 2s 13ms/step - loss: nan - accuracy: 0.1925 - val_loss: nan - val_accuracy: 0.2097\n",
      "Epoch 11/20\n",
      "114/114 [==============================] - 2s 13ms/step - loss: nan - accuracy: 0.1925 - val_loss: nan - val_accuracy: 0.2097\n",
      "Epoch 12/20\n",
      "114/114 [==============================] - 2s 13ms/step - loss: nan - accuracy: 0.1925 - val_loss: nan - val_accuracy: 0.2097\n",
      "Epoch 13/20\n",
      "114/114 [==============================] - 2s 13ms/step - loss: nan - accuracy: 0.1925 - val_loss: nan - val_accuracy: 0.2097\n",
      "Epoch 14/20\n",
      "114/114 [==============================] - 2s 13ms/step - loss: nan - accuracy: 0.1925 - val_loss: nan - val_accuracy: 0.2097\n",
      "Epoch 15/20\n",
      "114/114 [==============================] - 2s 13ms/step - loss: nan - accuracy: 0.1925 - val_loss: nan - val_accuracy: 0.2097\n",
      "Epoch 16/20\n",
      "114/114 [==============================] - 2s 13ms/step - loss: nan - accuracy: 0.1925 - val_loss: nan - val_accuracy: 0.2097\n",
      "Epoch 17/20\n",
      "114/114 [==============================] - 2s 13ms/step - loss: nan - accuracy: 0.1925 - val_loss: nan - val_accuracy: 0.2097\n",
      "Epoch 18/20\n",
      "114/114 [==============================] - 2s 13ms/step - loss: nan - accuracy: 0.1925 - val_loss: nan - val_accuracy: 0.2097\n",
      "Epoch 19/20\n",
      "114/114 [==============================] - 2s 13ms/step - loss: nan - accuracy: 0.1925 - val_loss: nan - val_accuracy: 0.2097\n",
      "Epoch 20/20\n",
      "114/114 [==============================] - 2s 13ms/step - loss: nan - accuracy: 0.1925 - val_loss: nan - val_accuracy: 0.2097\n"
     ]
    }
   ],
   "source": [
    "# 모델 학습\n",
    "history = model.fit(\n",
    "    [X_train_encoded.data, X_train_encoded.attention_mask], \n",
    "    np.array(y_train), \n",
    "    validation_data=([X_val_encoded.data, X_val_encoded.attention_mask], np.array(y_val)), \n",
    "    epochs=epochs, \n",
    "    batch_size=batch_size\n",
    ")"
   ]
  },
  {
   "cell_type": "code",
   "execution_count": 7,
   "metadata": {},
   "outputs": [],
   "source": [
    "model_name = 'robera_base'\n",
    "model.save(f'Model/{model_name}.h5')"
   ]
  },
  {
   "cell_type": "code",
   "execution_count": 14,
   "metadata": {},
   "outputs": [
    {
     "name": "stdout",
     "output_type": "stream",
     "text": [
      "Submission file created: Output/250810_model_bi_20epochs_submission.csv\n"
     ]
    }
   ],
   "source": [
    "from transformers import AutoTokenizer\n",
    "import datetime\n",
    "\n",
    "time = datetime.datetime.now().strftime('%d%H%M')\n",
    "\n",
    "def create_submission_file(model_name, test_data, tokenizer, label_encoder, max_length):\n",
    "    # 토크나이저 타입 확인 및 시퀀스 변환\n",
    "    if isinstance(tokenizer, AutoTokenizer):\n",
    "        # Transformers 토크나이저 사용\n",
    "        test_texts = test_data['text'].tolist()\n",
    "        X_test = tokenizer.batch_encode_plus(\n",
    "            test_texts,\n",
    "            max_length=max_length,\n",
    "            padding='max_length',\n",
    "            truncation=True,\n",
    "            return_tensors='tf'\n",
    "        )['input_ids']\n",
    "    elif isinstance(tokenizer, Tokenizer):\n",
    "        # Keras Tokenizer 사용\n",
    "        X_test = tokenizer.texts_to_sequences(test_data['text'].tolist())\n",
    "        X_test = pad_sequences(X_test, maxlen=max_length, padding='post')\n",
    "    else:\n",
    "        raise ValueError(\"지원되지 않는 토크나이저 타입입니다.\")\n",
    "    \n",
    "    # 모델 로드\n",
    "    model = tf.keras.models.load_model(f'Model/{model_name}.h5')\n",
    "    \n",
    "    # 예측 생성\n",
    "    test_predictions = model.predict(X_test)\n",
    "    test_predicted_labels = tf.argmax(test_predictions, axis=1).numpy()\n",
    "    \n",
    "    # 라벨 디코딩\n",
    "    test_predicted_labels = label_encoder.inverse_transform(test_predicted_labels)\n",
    "    \n",
    "    # 서브미션 파일 생성\n",
    "    submission = pd.DataFrame({'index': test_data.index, 'class': test_predicted_labels})\n",
    "    submission_filename = f'Output/{time}_{model_name}_{epochs}epochs_submission.csv'\n",
    "    submission.to_csv(submission_filename, index=False)\n",
    "    print(f'Submission file created: {submission_filename}')\n",
    "\n",
    "create_submission_file(model_name, test_data, tokenizer, label_encoder, max_length)"
   ]
  },
  {
   "cell_type": "code",
   "execution_count": null,
   "metadata": {},
   "outputs": [],
   "source": []
  }
 ],
 "metadata": {
  "kernelspec": {
   "display_name": "Python 3 (ipykernel)",
   "language": "python",
   "name": "python3"
  },
  "language_info": {
   "codemirror_mode": {
    "name": "ipython",
    "version": 3
   },
   "file_extension": ".py",
   "mimetype": "text/x-python",
   "name": "python",
   "nbconvert_exporter": "python",
   "pygments_lexer": "ipython3",
   "version": "3.9.7"
  }
 },
 "nbformat": 4,
 "nbformat_minor": 2
}
