{
 "cells": [
  {
   "cell_type": "markdown",
   "metadata": {},
   "source": [
    "# 모델 선택 및 학습\n",
    "## 모델 선택"
   ]
  },
  {
   "cell_type": "code",
   "execution_count": null,
   "metadata": {},
   "outputs": [],
   "source": [
    "import os\n",
    "import tensorflow as tf\n",
    "# GPU 메모리 사용 점진적 할당 설정\n",
    "gpus = tf.config.experimental.list_physical_devices('GPU')\n",
    "if gpus:\n",
    "    try:\n",
    "        for gpu in gpus:\n",
    "            tf.config.experimental.set_memory_growth(gpu, True)\n",
    "    except RuntimeError as e:\n",
    "        print(e)"
   ]
  },
  {
   "cell_type": "code",
   "execution_count": null,
   "metadata": {},
   "outputs": [],
   "source": [
    "# 테스트 환경 속 설정 변수\n",
    "epochs = 20\n",
    "batch_size = 32\n",
    "validation_split = 0.2"
   ]
  },
  {
   "cell_type": "code",
   "execution_count": null,
   "metadata": {},
   "outputs": [],
   "source": [
    "import numpy as np\n",
    "import pandas as pd\n",
    "import re\n",
    "from sklearn.preprocessing import LabelEncoder\n",
    "from tensorflow.keras.preprocessing.sequence import pad_sequences\n",
    "from tensorflow.keras.preprocessing.text import Tokenizer\n",
    "\n",
    "# 파일 경로 설정\n",
    "train_file_path = 'Data/processed_train2.csv'\n",
    "test_file_path = 'Data/processed_test2.csv'\n",
    "train_data = pd.read_csv(train_file_path)\n",
    "test_data = pd.read_csv(test_file_path)\n",
    "\n",
    "\n",
    "# 텍스트 정제 함수\n",
    "def clean_text(text):\n",
    "    text = re.sub(r'\\s+', ' ', text)  # 다중 공백 제거\n",
    "    text = re.sub(r'[^\\w\\s]', '', text)  # 특수 문자 제거\n",
    "    return text.strip()\n",
    "\n",
    "train_data['cleaned_conversation'] = train_data['conversation'].apply(clean_text)\n",
    "train_data['text_length'] = train_data['cleaned_conversation'].apply(len)\n",
    "\n",
    "# 토크나이저 설정\n",
    "tokenizer = Tokenizer()\n",
    "tokenizer.fit_on_texts(train_data['cleaned_conversation'])\n",
    "\n",
    "# 시퀀스 변환 및 패딩\n",
    "sequences = tokenizer.texts_to_sequences(train_data['cleaned_conversation'])\n",
    "max_length = 300\n",
    "X_data = pad_sequences(sequences, maxlen=max_length, padding='post')\n",
    "\n",
    "# 레이블 인코딩\n",
    "label_encoder = LabelEncoder()\n",
    "y_data = label_encoder.fit_transform(train_data['class'])\n",
    "\n",
    "# 결과 확인\n",
    "print('토크나이저 단어 개수:', len(tokenizer.word_index))\n",
    "print('X_data 크기:', X_data.shape)\n",
    "print('y_data 크기:', y_data.shape)"
   ]
  },
  {
   "cell_type": "code",
   "execution_count": null,
   "metadata": {},
   "outputs": [],
   "source": [
    "padded_sequences = X_data\n",
    "labels = y_data"
   ]
  },
  {
   "cell_type": "markdown",
   "metadata": {},
   "source": [
    "## 1. 기본 LSTM 모델"
   ]
  },
  {
   "cell_type": "code",
   "execution_count": null,
   "metadata": {},
   "outputs": [],
   "source": [
    "import tensorflow as tf\n",
    "from tensorflow.keras.models import Model\n",
    "from tensorflow.keras.layers import Input, Embedding, LSTM, Dense\n",
    "\n",
    "# 입력 정의\n",
    "input_layer = Input(shape=(max_length,), name='input')\n",
    "\n",
    "# 임베딩 층\n",
    "embedding_layer = Embedding(input_dim=len(tokenizer.word_index) + 1, output_dim=128)(input_layer)\n",
    "\n",
    "# LSTM 층\n",
    "lstm_layer = LSTM(64)(embedding_layer)\n",
    "\n",
    "# 출력층 정의\n",
    "num_classes = 4\n",
    "output_layer = Dense(num_classes, activation='softmax', name='output')(lstm_layer)\n",
    "\n",
    "# 모델 생성\n",
    "model = Model(inputs=input_layer, outputs=output_layer)\n",
    "model.compile(optimizer='adam', loss='sparse_categorical_crossentropy', metrics=['accuracy'])\n",
    "\n",
    "# 모델 요약\n",
    "model.summary()"
   ]
  },
  {
   "cell_type": "code",
   "execution_count": null,
   "metadata": {},
   "outputs": [],
   "source": [
    "# 모델 학습\n",
    "history = model.fit(\n",
    "    padded_sequences, labels,\n",
    "    epochs=epochs,\n",
    "    batch_size=batch_size,\n",
    "    validation_split=validation_split\n",
    ")"
   ]
  },
  {
   "cell_type": "code",
   "execution_count": null,
   "metadata": {},
   "outputs": [],
   "source": [
    "model_name = 'model_bi'\n",
    "model.save(f'Model/{model_name}.h5')"
   ]
  },
  {
   "cell_type": "code",
   "execution_count": null,
   "metadata": {},
   "outputs": [],
   "source": [
    "from transformers import AutoTokenizer\n",
    "\n",
    "def create_submission_file(model_name, test_data, tokenizer, label_encoder, max_length):\n",
    "    # 토크나이저 타입 확인 및 시퀀스 변환\n",
    "    if isinstance(tokenizer, AutoTokenizer):\n",
    "        # Transformers 토크나이저 사용\n",
    "        test_texts = test_data['text'].tolist()\n",
    "        X_test = tokenizer.batch_encode_plus(\n",
    "            test_texts,\n",
    "            max_length=max_length,\n",
    "            padding='max_length',\n",
    "            truncation=True,\n",
    "            return_tensors='tf'\n",
    "        )['input_ids']\n",
    "    elif isinstance(tokenizer, Tokenizer):\n",
    "        # Keras Tokenizer 사용\n",
    "        X_test = tokenizer.texts_to_sequences(test_data['text'].tolist())\n",
    "        X_test = pad_sequences(X_test, maxlen=max_length, padding='post')\n",
    "    else:\n",
    "        raise ValueError(\"지원되지 않는 토크나이저 타입입니다.\")\n",
    "    \n",
    "    # 모델 로드\n",
    "    model = tf.keras.models.load_model(f'{model_name}.h5')\n",
    "    \n",
    "    # 예측 생성\n",
    "    test_predictions = model.predict(X_test)\n",
    "    test_predicted_labels = tf.argmax(test_predictions, axis=1).numpy()\n",
    "    \n",
    "    # 라벨 디코딩\n",
    "    test_predicted_labels = label_encoder.inverse_transform(test_predicted_labels)\n",
    "    \n",
    "    # 서브미션 파일 생성\n",
    "    submission = pd.DataFrame({'index': test_data.index, 'class': test_predicted_labels})\n",
    "    submission_filename = f'{model_name}_submission.csv'\n",
    "    submission.to_csv(submission_filename, index=False)\n",
    "    print(f'Submission file created: {submission_filename}')\n",
    "\n",
    "create_submission_file(model_name, test_data, tokenizer, label_encoder, max_length)"
   ]
  }
 ],
 "metadata": {
  "kernelspec": {
   "display_name": "Python 3 (ipykernel)",
   "language": "python",
   "name": "python3"
  },
  "language_info": {
   "codemirror_mode": {
    "name": "ipython",
    "version": 3
   },
   "file_extension": ".py",
   "mimetype": "text/x-python",
   "name": "python",
   "nbconvert_exporter": "python",
   "pygments_lexer": "ipython3",
   "version": "3.9.7"
  }
 },
 "nbformat": 4,
 "nbformat_minor": 2
}
