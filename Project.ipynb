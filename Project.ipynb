{
 "cells": [
  {
   "cell_type": "markdown",
   "metadata": {},
   "source": [
    "# 전처리된 데이터 EDA"
   ]
  },
  {
   "cell_type": "code",
   "execution_count": null,
   "metadata": {},
   "outputs": [],
   "source": [
    "import pandas as pd\n",
    "import json\n",
    "import matplotlib.pyplot as plt\n",
    "import seaborn as sns\n",
    "from wordcloud import WordCloud\n",
    "import re\n",
    "from konlpy.tag import Okt\n",
    "from sklearn.model_selection import train_test_split\n",
    "from sklearn.preprocessing import LabelEncoder\n",
    "from transformers import BertTokenizer, TFBertForSequenceClassification\n",
    "import tensorflow as tf\n",
    "\n",
    "train_file_path = \"Data/processed_train2.csv\"\n",
    "test_file_path = \"Data/processed_test2.csv\"\n",
    "submission_file_path = 'Data/submission.csv'\n",
    "train_data = pd.read_csv(train_file_path)\n",
    "print(\"Train Data Sample:\")\n",
    "print(train_data.head())\n",
    "\n",
    "print(\"\\nTrain Data Columns:\")\n",
    "print(train_data.columns)\n",
    "\n",
    "\n",
    "\n",
    "test_data = pd.read_json(test_file_path).T\n",
    "test_data.head()\n",
    "\n",
    "submission_data = pd.read_csv(submission_file_path)\n",
    "\n",
    "\n",
    "print(\"\\nTest Data Sample:\")\n",
    "print(test_data.head())\n",
    "print(test_data.columns)\n",
    "\n",
    "# submission.csv 파일 읽기\n",
    "submission_data = pd.read_csv(submission_file_path)\n",
    "print(\"\\nSubmission Data Sample:\")\n",
    "print(submission_data.head())\n",
    "print(submission_data.columns)"
   ]
  },
  {
   "cell_type": "code",
   "execution_count": null,
   "metadata": {},
   "outputs": [],
   "source": [
    "# train 데이터 구조 및 통계 정보 확인\n",
    "print(\"\\nTrain Data Info:\")\n",
    "print(train_data.info())\n",
    "\n",
    "# test 데이터 구조 및 통계 정보 확인\n",
    "print(\"\\nTest Data Info:\")\n",
    "print(test_data.info())\n",
    "\n",
    "# submission 데이터 구조 및 통계 정보 확인\n",
    "print(\"\\nSubmission Data Info:\")\n",
    "print(submission_data.info())"
   ]
  },
  {
   "cell_type": "code",
   "execution_count": null,
   "metadata": {},
   "outputs": [],
   "source": [
    "# 결측치 확인\n",
    "print(\"\\nTrain Data Missing Values:\")\n",
    "print(train_data.isnull().sum())\n",
    "\n",
    "print(\"\\nTest Data Missing Values:\")\n",
    "print(test_data.isnull().sum())\n",
    "\n",
    "print(\"\\nSubmission Data Missing Values:\")\n",
    "print(submission_data.isnull().sum())"
   ]
  },
  {
   "cell_type": "code",
   "execution_count": null,
   "metadata": {},
   "outputs": [],
   "source": [
    "# 결측치 확인\n",
    "print(\"\\nTrain Data Missing Values:\")\n",
    "print(train_data.isnull().sum())\n",
    "\n",
    "print(\"\\nTest Data Missing Values:\")\n",
    "print(test_data.isnull().sum())\n",
    "\n",
    "print(\"\\nSubmission Data Missing Values:\")\n",
    "print(submission_data.isnull().sum())"
   ]
  },
  {
   "cell_type": "code",
   "execution_count": null,
   "metadata": {},
   "outputs": [],
   "source": [
    "label_col = 'class' if 'class' in train_data.columns else train_data.columns[-1]  # Assuming label column is the last one if unnamed\n",
    "print(\"\\nTrain Data Label Distribution:\")\n",
    "print(train_data[label_col].value_counts())"
   ]
  },
  {
   "cell_type": "code",
   "execution_count": null,
   "metadata": {},
   "outputs": [],
   "source": [
    "# 텍스트 길이 분석\n",
    "text_col = 'conversation' if 'conversation' in train_data.columns else train_data.columns[0]  # Assuming text column is the first one if unnamed\n",
    "\n",
    "# 텍스트 데이터 타입 확인 및 정리\n",
    "train_data['text_length'] = train_data[text_col].apply(lambda x: len(str(x)) if isinstance(x, str) else 0)\n",
    "test_data['text_length'] = test_data['text'].apply(lambda x: len(str(x)) if isinstance(x, str) else 0)\n",
    "\n",
    "print(\"\\nTrain Data Text Length Stats:\")\n",
    "print(train_data['text_length'].describe())\n",
    "\n",
    "print(\"\\nTest Data Text Length Stats:\")\n",
    "print(test_data['text_length'].describe())"
   ]
  },
  {
   "cell_type": "code",
   "execution_count": null,
   "metadata": {},
   "outputs": [],
   "source": [
    "import matplotlib.pyplot as plt\n",
    "import seaborn as sns\n",
    "\n",
    "# 텍스트 길이 분포 시각화\n",
    "plt.figure(figsize=(12, 6))\n",
    "sns.histplot(train_data['text_length'], bins=50, kde=True, color='blue', label='Train Data')\n",
    "sns.histplot(test_data['text_length'], bins=50, kde=True, color='green', label='Test Data')\n",
    "plt.legend()\n",
    "plt.title('Text Length Distribution')\n",
    "plt.xlabel('Text Length')\n",
    "plt.ylabel('Frequency')\n",
    "plt.show()"
   ]
  },
  {
   "cell_type": "code",
   "execution_count": null,
   "metadata": {},
   "outputs": [],
   "source": [
    "!apt-get update      \n",
    "!apt-get install fonts-nanum* #나눔글꼴 설치"
   ]
  },
  {
   "cell_type": "code",
   "execution_count": null,
   "metadata": {},
   "outputs": [],
   "source": [
    "import matplotlib.font_manager as fm\n",
    "\n",
    "\n",
    "fe = fm.FontEntry(fname=r'/usr/share/fonts/truetype/nanum/NanumGothic.ttf', name='NanumGothic') #파일 저장되어있는 경로와 이름 설정\n",
    "fm.fontManager.ttflist.insert(0, fe)  # Matplotlib에 폰트 추가\n",
    "plt.rcParams.update({'font.size': 10, 'font.family': 'NanumGothic'}) #폰트설정"
   ]
  },
  {
   "cell_type": "code",
   "execution_count": null,
   "metadata": {},
   "outputs": [],
   "source": [
    "from wordcloud import WordCloud\n",
    "from konlpy.tag import Okt\n",
    "import matplotlib.pyplot as plt\n",
    "import pandas as pd\n",
    "\n",
    "# 형태소 분석기 초기화\n",
    "okt = Okt()\n",
    "\n",
    "# 예시 폰트 경로\n",
    "font_path = '/usr/share/fonts/truetype/nanum/NanumGothic.ttf'\n",
    "\n",
    "# 텍스트 열 이름\n",
    "text_col = 'conversation' if 'conversation' in train_data.columns else train_data.columns[0]\n",
    "\n",
    "# 클래스별 단어 구름 시각화\n",
    "for label in train_data['class'].unique():\n",
    "    # 해당 클래스의 텍스트 추출\n",
    "    text = \" \".join(train_data[train_data['class'] == label][text_col].dropna().astype(str))\n",
    "    \n",
    "    # 형태소 분석을 통해 명사만 추출\n",
    "    tokens = okt.nouns(text)\n",
    "    \n",
    "    # 명사 리스트를 문자열로 변환\n",
    "    tokens_str = \" \".join(tokens)\n",
    "    \n",
    "    # 단어 구름 생성\n",
    "    wordcloud = WordCloud(font_path=font_path, width=800, height=400, background_color='white').generate(tokens_str)\n",
    "    \n",
    "    # 단어 구름 시각화\n",
    "    plt.figure(figsize=(10, 5))\n",
    "    plt.rcParams['font.family'] = 'NanumGothic'\n",
    "    plt.imshow(wordcloud, interpolation='bilinear')\n",
    "    plt.title(f'Word Cloud for Label {label}')\n",
    "    plt.axis('off')\n",
    "    plt.show()\n",
    "\n"
   ]
  },
  {
   "cell_type": "code",
   "execution_count": null,
   "metadata": {},
   "outputs": [],
   "source": [
    "# 클래스 분포 시각화\n",
    "plt.figure(figsize=(10, 6))\n",
    "sns.countplot(x='class', data=train_data)\n",
    "plt.title('Class Distribution in Train Data')\n",
    "plt.xlabel('Class')\n",
    "plt.ylabel('Count')\n",
    "plt.xticks(rotation=45)\n",
    "plt.show()"
   ]
  },
  {
   "cell_type": "code",
   "execution_count": null,
   "metadata": {},
   "outputs": [],
   "source": [
    "# 텍스트 길이 계산\n",
    "train_data['text_length'] = train_data['conversation'].apply(lambda x: len(x.split()))\n",
    "\n",
    "# 클래스별 텍스트 길이 분포 시각화\n",
    "plt.figure(figsize=(12, 6))\n",
    "sns.boxplot(x='class', y='text_length', data=train_data)\n",
    "plt.title('Text Length Distribution by Class')\n",
    "plt.xlabel('Class')\n",
    "plt.ylabel('Text Length')\n",
    "plt.xticks(rotation=45)\n",
    "plt.show()"
   ]
  },
  {
   "cell_type": "code",
   "execution_count": null,
   "metadata": {},
   "outputs": [],
   "source": [
    "from sklearn.feature_extraction.text import TfidfVectorizer\n",
    "import numpy as np\n",
    "\n",
    "# TF-IDF 벡터화\n",
    "vectorizer = TfidfVectorizer(max_features=5000)\n",
    "X_tfidf = vectorizer.fit_transform(train_data['conversation'])\n",
    "\n",
    "# 클래스별 중요한 단어 시각화\n",
    "classes = train_data['class'].unique()\n",
    "\n",
    "for cls in classes:\n",
    "    class_data = train_data[train_data['class'] == cls]['conversation']\n",
    "    class_tfidf = vectorizer.transform(class_data)\n",
    "    tfidf_means = np.mean(class_tfidf.toarray(), axis=0)\n",
    "    tfidf_indices = np.argsort(tfidf_means)[::-1][:10]  # 상위 10개 단어 선택\n",
    "    \n",
    "    words = np.array(vectorizer.get_feature_names_out())[tfidf_indices]\n",
    "    scores = tfidf_means[tfidf_indices]\n",
    "\n",
    "    plt.figure(figsize=(10, 5))\n",
    "    sns.barplot(x=scores, y=words)\n",
    "    plt.title(f'Top 10 TF-IDF Words for Class: {cls}')\n",
    "    plt.xlabel('TF-IDF Score')\n",
    "    plt.ylabel('Word')\n",
    "    plt.show()"
   ]
  },
  {
   "cell_type": "code",
   "execution_count": null,
   "metadata": {},
   "outputs": [],
   "source": [
    "from collections import Counter\n",
    "import seaborn as sns\n",
    "\n",
    "# 형태소 분석기 초기화\n",
    "okt = Okt()\n",
    "\n",
    "# 모든 텍스트를 결합\n",
    "all_text = \" \".join(train_data['conversation'].dropna().astype(str))\n",
    "\n",
    "# 형태소 분석을 통해 명사만 추출\n",
    "nouns = okt.nouns(all_text)\n",
    "\n",
    "# 명사 빈도수 계산\n",
    "noun_counts = Counter(nouns)\n",
    "\n",
    "# 상위 20개 단어 추출\n",
    "top_nouns = noun_counts.most_common(20)\n",
    "\n",
    "# 단어와 빈도 분리 (리스트로 변환)\n",
    "words, counts = zip(*top_nouns)\n",
    "words = list(words)\n",
    "counts = list(counts)\n",
    "\n",
    "# 단어 빈도 시각화\n",
    "plt.figure(figsize=(12, 6))\n",
    "sns.barplot(x=counts, y=words)\n",
    "plt.title('Top 20 Words by Frequency')\n",
    "plt.xlabel('Frequency')\n",
    "plt.ylabel('Words')\n",
    "plt.show()"
   ]
  },
  {
   "cell_type": "code",
   "execution_count": null,
   "metadata": {},
   "outputs": [],
   "source": [
    "print(\"\\nTrain Data Text Length Stats:\")\n",
    "print(train_data['text_length'].describe())\n",
    "\n",
    "print(\"\\nTest Data Text Length Stats:\")\n",
    "print(test_data['text_length'].describe())"
   ]
  }
 ],
 "metadata": {
  "kernelspec": {
   "display_name": "tf_env",
   "language": "python",
   "name": "python3"
  },
  "language_info": {
   "name": "python",
   "version": "3.9.19"
  }
 },
 "nbformat": 4,
 "nbformat_minor": 2
}
