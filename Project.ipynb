{
 "cells": [
  {
   "cell_type": "code",
   "execution_count": 2,
   "id": "9d17d2ba",
   "metadata": {},
   "outputs": [
    {
     "name": "stdout",
     "output_type": "stream",
     "text": [
      "\u001b[0m\u001b[01;34mData\u001b[0m/  Project.ipynb  README.md\r\n"
     ]
    }
   ],
   "source": [
    "ls"
   ]
  },
  {
   "cell_type": "code",
   "execution_count": 3,
   "id": "354504fd",
   "metadata": {},
   "outputs": [
    {
     "name": "stdout",
     "output_type": "stream",
     "text": [
      "Train Data Sample:\n",
      "   idx        class                                       conversation\n",
      "0    0        협박 대화  지금 당장 뉴스 기사 내가 불러준 대로 보도 해\\n 팩트 체크가 되지 않은 기사는 ...\n",
      "1    1    기타 괴롭힘 대화  이 버러지 같은게 너 내가 누군줄알아?\\n손님 욕하시면 안됩니다. \\n어디서 말대꾸...\n",
      "2    2    기타 괴롭힘 대화  공책 돌려받길 원하면 빨리 뛰어봐. 이 굼벵아.\\n빨리 내놔.\\n빨릐 내놔아. 빨리...\n",
      "3    3  직장 내 괴롭힘 대화  사장님 저기 말할게 있는데요\\n뭔데 임마\\n아니 우리 게임회사는 전체이용가 게임이잖...\n",
      "4    4        협박 대화  죽고 싶어서 환장했어? 왜 이렇게 말을 안 들어?\\n 죄송해요. 한 번만 봐주세요....\n",
      "\n",
      "Train Data Columns:\n",
      "Index(['idx', 'class', 'conversation'], dtype='object')\n",
      "\n",
      "Test Data Sample:\n",
      "                                                    text\n",
      "t_000  아가씨 담배한갑주소 네 4500원입니다 어 네 지갑어디갔지 에이 버스에서 잃어버렸나...\n",
      "t_001  우리팀에서 다른팀으로 갈 사람 없나? 그럼 영지씨가 가는건 어때?  네? 제가요? ...\n",
      "t_002  너 오늘 그게 뭐야 네 제가 뭘 잘못했나요.? 제대로 좀 하지 네 똑바로 좀 하지 ...\n",
      "t_003  이거 들어바 와 이 노래 진짜 좋다 그치 요즘 이 것만 들어 진짜 너무 좋다 내가 ...\n",
      "t_004  아무튼 앞으로 니가 내 와이파이야. .응 와이파이 온. 켰어. 반말? 주인님이라고도...\n",
      "Index(['text'], dtype='object')\n",
      "\n",
      "Submission Data Sample:\n",
      "  file_name  class\n",
      "0     t_000    NaN\n",
      "1     t_001    NaN\n",
      "2     t_002    NaN\n",
      "3     t_004    NaN\n",
      "4     t_005    NaN\n",
      "Index(['file_name', 'class'], dtype='object')\n"
     ]
    }
   ],
   "source": [
    "import pandas as pd\n",
    "import json\n",
    "import matplotlib.pyplot as plt\n",
    "import seaborn as sns\n",
    "from wordcloud import WordCloud\n",
    "import re\n",
    "from konlpy.tag import Okt\n",
    "from sklearn.model_selection import train_test_split\n",
    "from sklearn.preprocessing import LabelEncoder\n",
    "from transformers import BertTokenizer, TFBertForSequenceClassification\n",
    "import tensorflow as tf\n",
    "\n",
    "\n",
    "train_file_path = \"Data/train.csv\"\n",
    "test_file_path = \"Data/test.json\"\n",
    "submission_file_path = 'Data/submission.csv'\n",
    "train_data = pd.read_csv(train_file_path)\n",
    "print(\"Train Data Sample:\")\n",
    "print(train_data.head())\n",
    "\n",
    "print(\"\\nTrain Data Columns:\")\n",
    "print(train_data.columns)\n",
    "\n",
    "\n",
    "\n",
    "test_data = pd.read_json(test_file_path).T\n",
    "test_data.head()\n",
    "\n",
    "submission_data = pd.read_csv(submission_file_path)\n",
    "\n",
    "\n",
    "print(\"\\nTest Data Sample:\")\n",
    "print(test_data.head())\n",
    "print(test_data.columns)\n",
    "\n",
    "# submission.csv 파일 읽기\n",
    "submission_data = pd.read_csv(submission_file_path)\n",
    "print(\"\\nSubmission Data Sample:\")\n",
    "print(submission_data.head())\n",
    "print(submission_data.columns)"
   ]
  },
  {
   "cell_type": "code",
   "execution_count": 4,
   "id": "11807714",
   "metadata": {},
   "outputs": [
    {
     "name": "stdout",
     "output_type": "stream",
     "text": [
      "\n",
      "Train Data Info:\n",
      "<class 'pandas.core.frame.DataFrame'>\n",
      "RangeIndex: 4906 entries, 0 to 4905\n",
      "Data columns (total 3 columns):\n",
      " #   Column        Non-Null Count  Dtype \n",
      "---  ------        --------------  ----- \n",
      " 0   idx           4906 non-null   int64 \n",
      " 1   class         4906 non-null   object\n",
      " 2   conversation  4906 non-null   object\n",
      "dtypes: int64(1), object(2)\n",
      "memory usage: 115.1+ KB\n",
      "None\n",
      "\n",
      "Test Data Info:\n",
      "<class 'pandas.core.frame.DataFrame'>\n",
      "Index: 500 entries, t_000 to t_499\n",
      "Data columns (total 1 columns):\n",
      " #   Column  Non-Null Count  Dtype \n",
      "---  ------  --------------  ----- \n",
      " 0   text    500 non-null    object\n",
      "dtypes: object(1)\n",
      "memory usage: 24.0+ KB\n",
      "None\n",
      "\n",
      "Submission Data Info:\n",
      "<class 'pandas.core.frame.DataFrame'>\n",
      "RangeIndex: 400 entries, 0 to 399\n",
      "Data columns (total 2 columns):\n",
      " #   Column     Non-Null Count  Dtype  \n",
      "---  ------     --------------  -----  \n",
      " 0   file_name  400 non-null    object \n",
      " 1   class      0 non-null      float64\n",
      "dtypes: float64(1), object(1)\n",
      "memory usage: 6.4+ KB\n",
      "None\n"
     ]
    }
   ],
   "source": [
    "# train 데이터 구조 및 통계 정보 확인\n",
    "print(\"\\nTrain Data Info:\")\n",
    "print(train_data.info())\n",
    "\n",
    "# test 데이터 구조 및 통계 정보 확인\n",
    "print(\"\\nTest Data Info:\")\n",
    "print(test_data.info())\n",
    "\n",
    "# submission 데이터 구조 및 통계 정보 확인\n",
    "print(\"\\nSubmission Data Info:\")\n",
    "print(submission_data.info())"
   ]
  },
  {
   "cell_type": "code",
   "execution_count": 5,
   "id": "95bb27e9",
   "metadata": {},
   "outputs": [
    {
     "name": "stdout",
     "output_type": "stream",
     "text": [
      "\n",
      "Train Data Missing Values:\n",
      "idx             0\n",
      "class           0\n",
      "conversation    0\n",
      "dtype: int64\n",
      "\n",
      "Test Data Missing Values:\n",
      "text    0\n",
      "dtype: int64\n",
      "\n",
      "Submission Data Missing Values:\n",
      "file_name      0\n",
      "class        400\n",
      "dtype: int64\n"
     ]
    }
   ],
   "source": [
    "# 결측치 확인\n",
    "print(\"\\nTrain Data Missing Values:\")\n",
    "print(train_data.isnull().sum())\n",
    "\n",
    "print(\"\\nTest Data Missing Values:\")\n",
    "print(test_data.isnull().sum())\n",
    "\n",
    "print(\"\\nSubmission Data Missing Values:\")\n",
    "print(submission_data.isnull().sum())\n"
   ]
  },
  {
   "cell_type": "code",
   "execution_count": 6,
   "id": "0801d63a",
   "metadata": {},
   "outputs": [
    {
     "name": "stdout",
     "output_type": "stream",
     "text": [
      "\n",
      "Train Data Missing Values:\n",
      "idx             0\n",
      "class           0\n",
      "conversation    0\n",
      "dtype: int64\n",
      "\n",
      "Test Data Missing Values:\n",
      "text    0\n",
      "dtype: int64\n",
      "\n",
      "Submission Data Missing Values:\n",
      "file_name      0\n",
      "class        400\n",
      "dtype: int64\n"
     ]
    }
   ],
   "source": [
    "# 결측치 확인\n",
    "print(\"\\nTrain Data Missing Values:\")\n",
    "print(train_data.isnull().sum())\n",
    "\n",
    "print(\"\\nTest Data Missing Values:\")\n",
    "print(test_data.isnull().sum())\n",
    "\n",
    "print(\"\\nSubmission Data Missing Values:\")\n",
    "print(submission_data.isnull().sum())\n"
   ]
  },
  {
   "cell_type": "code",
   "execution_count": 7,
   "id": "e1a528ab",
   "metadata": {},
   "outputs": [
    {
     "name": "stdout",
     "output_type": "stream",
     "text": [
      "\n",
      "Train Data Label Distribution:\n",
      "기타 괴롭힘 대화      1094\n",
      "갈취 대화           981\n",
      "직장 내 괴롭힘 대화     979\n",
      "일반 대화           956\n",
      "협박 대화           896\n",
      "Name: class, dtype: int64\n"
     ]
    }
   ],
   "source": [
    "label_col = 'class' if 'class' in train_data.columns else train_data.columns[-1]  # Assuming label column is the last one if unnamed\n",
    "print(\"\\nTrain Data Label Distribution:\")\n",
    "print(train_data[label_col].value_counts())"
   ]
  },
  {
   "cell_type": "code",
   "execution_count": 8,
   "id": "a288aa72",
   "metadata": {},
   "outputs": [
    {
     "name": "stdout",
     "output_type": "stream",
     "text": [
      "\n",
      "Train Data Text Length Stats:\n",
      "count    4906.000000\n",
      "mean      258.097228\n",
      "std       143.286725\n",
      "min        41.000000\n",
      "25%       162.000000\n",
      "50%       218.000000\n",
      "75%       306.000000\n",
      "max       885.000000\n",
      "Name: text_length, dtype: float64\n",
      "\n",
      "Test Data Text Length Stats:\n",
      "count    500.000000\n",
      "mean     213.626000\n",
      "std      101.240473\n",
      "min       68.000000\n",
      "25%      143.000000\n",
      "50%      189.000000\n",
      "75%      253.500000\n",
      "max      722.000000\n",
      "Name: text_length, dtype: float64\n"
     ]
    }
   ],
   "source": [
    "# 텍스트 길이 분석\n",
    "text_col = 'conversation' if 'conversation' in train_data.columns else train_data.columns[0]  # Assuming text column is the first one if unnamed\n",
    "\n",
    "# 텍스트 데이터 타입 확인 및 정리\n",
    "train_data['text_length'] = train_data[text_col].apply(lambda x: len(str(x)) if isinstance(x, str) else 0)\n",
    "test_data['text_length'] = test_data['text'].apply(lambda x: len(str(x)) if isinstance(x, str) else 0)\n",
    "\n",
    "print(\"\\nTrain Data Text Length Stats:\")\n",
    "print(train_data['text_length'].describe())\n",
    "\n",
    "print(\"\\nTest Data Text Length Stats:\")\n",
    "print(test_data['text_length'].describe())"
   ]
  },
  {
   "cell_type": "code",
   "execution_count": 9,
   "id": "76fe2553",
   "metadata": {},
   "outputs": [
    {
     "data": {
      "image/png": "[encoded data removed]",
      "text/plain": [
       "<Figure size 864x432 with 1 Axes>"
      ]
     },
     "metadata": {
      "needs_background": "light"
     },
     "output_type": "display_data"
    }
   ],
   "source": [
    "import matplotlib.pyplot as plt\n",
    "import seaborn as sns\n",
    "\n",
    "# 텍스트 길이 분포 시각화\n",
    "plt.figure(figsize=(12, 6))\n",
    "sns.histplot(train_data['text_length'], bins=50, kde=True, color='blue', label='Train Data')\n",
    "sns.histplot(test_data['text_length'], bins=50, kde=True, color='green', label='Test Data')\n",
    "plt.legend()\n",
    "plt.title('Text Length Distribution')\n",
    "plt.xlabel('Text Length')\n",
    "plt.ylabel('Frequency')\n",
    "plt.show()"
   ]
  },
  {
   "cell_type": "code",
   "execution_count": null,
   "id": "fe16cd53",
   "metadata": {},
   "outputs": [],
   "source": []
  }
 ],
 "metadata": {
  "kernelspec": {
   "display_name": "Python 3 (ipykernel)",
   "language": "python",
   "name": "python3"
  },
  "language_info": {
   "codemirror_mode": {
    "name": "ipython",
    "version": 3
   },
   "file_extension": ".py",
   "mimetype": "text/x-python",
   "name": "python",
   "nbconvert_exporter": "python",
   "pygments_lexer": "ipython3",
   "version": "3.9.7"
  }
 },
 "nbformat": 4,
 "nbformat_minor": 5
}
