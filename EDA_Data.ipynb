{
 "cells": [
  {
   "cell_type": "markdown",
   "id": "eff720c0",
   "metadata": {},
   "source": [
    "# 데이터 EDA"
   ]
  },
  {
   "cell_type": "code",
   "execution_count": 1,
   "id": "539b1850",
   "metadata": {},
   "outputs": [
    {
     "ename": "ModuleNotFoundError",
     "evalue": "No module named 'wordcloud'",
     "output_type": "error",
     "traceback": [
      "\u001b[1;31m---------------------------------------------------------------------------\u001b[0m",
      "\u001b[1;31mModuleNotFoundError\u001b[0m                       Traceback (most recent call last)",
      "Cell \u001b[1;32mIn[1], line 5\u001b[0m\n\u001b[0;32m      3\u001b[0m \u001b[38;5;28;01mimport\u001b[39;00m \u001b[38;5;21;01mmatplotlib\u001b[39;00m\u001b[38;5;21;01m.\u001b[39;00m\u001b[38;5;21;01mpyplot\u001b[39;00m \u001b[38;5;28;01mas\u001b[39;00m \u001b[38;5;21;01mplt\u001b[39;00m\n\u001b[0;32m      4\u001b[0m \u001b[38;5;28;01mimport\u001b[39;00m \u001b[38;5;21;01mseaborn\u001b[39;00m \u001b[38;5;28;01mas\u001b[39;00m \u001b[38;5;21;01msns\u001b[39;00m\n\u001b[1;32m----> 5\u001b[0m \u001b[38;5;28;01mfrom\u001b[39;00m \u001b[38;5;21;01mwordcloud\u001b[39;00m \u001b[38;5;28;01mimport\u001b[39;00m WordCloud\n\u001b[0;32m      6\u001b[0m \u001b[38;5;28;01mimport\u001b[39;00m \u001b[38;5;21;01mre\u001b[39;00m\n\u001b[0;32m      7\u001b[0m \u001b[38;5;28;01mfrom\u001b[39;00m \u001b[38;5;21;01mkonlpy\u001b[39;00m\u001b[38;5;21;01m.\u001b[39;00m\u001b[38;5;21;01mtag\u001b[39;00m \u001b[38;5;28;01mimport\u001b[39;00m Okt\n",
      "\u001b[1;31mModuleNotFoundError\u001b[0m: No module named 'wordcloud'"
     ]
    }
   ],
   "source": [
    "import pandas as pd\n",
    "import json\n",
    "import matplotlib.pyplot as plt\n",
    "import seaborn as sns\n",
    "from wordcloud import WordCloud\n",
    "import re\n",
    "from konlpy.tag import Okt\n",
    "from sklearn.model_selection import train_test_split\n",
    "from sklearn.preprocessing import LabelEncoder\n",
    "from transformers import BertTokenizer, TFBertForSequenceClassification\n",
    "import tensorflow as tf\n",
    "\n",
    "\n",
    "train_file_path = \"Data/origin_train.csv\"\n",
    "test_file_path = \"Data/origin_test.json\"\n",
    "submission_file_path = 'Data/submission.csv'\n",
    "train_data = pd.read_csv(train_file_path)\n",
    "print(\"Train Data Sample:\")\n",
    "print(train_data.head())\n",
    "\n",
    "print(\"\\nTrain Data Columns:\")\n",
    "print(train_data.columns)\n",
    "\n",
    "test_data = pd.read_json(test_file_path).T\n",
    "test_data.head()\n",
    "\n",
    "submission_data = pd.read_csv(submission_file_path)\n",
    "\n",
    "\n",
    "print(\"\\nTest Data Sample:\")\n",
    "print(test_data.head())\n",
    "print(test_data.columns)\n",
    "\n",
    "# submission.csv 파일 읽기\n",
    "submission_data = pd.read_csv(submission_file_path)\n",
    "print(\"\\nSubmission Data Sample:\")\n",
    "print(submission_data.head())\n",
    "print(submission_data.columns)"
   ]
  },
  {
   "cell_type": "code",
   "execution_count": 4,
   "id": "dc307a8e",
   "metadata": {},
   "outputs": [
    {
     "name": "stdout",
     "output_type": "stream",
     "text": [
      "\n",
      "Train Data Info:\n",
      "<class 'pandas.core.frame.DataFrame'>\n",
      "RangeIndex: 4906 entries, 0 to 4905\n",
      "Data columns (total 3 columns):\n",
      " #   Column        Non-Null Count  Dtype \n",
      "---  ------        --------------  ----- \n",
      " 0   idx           4906 non-null   int64 \n",
      " 1   class         4906 non-null   object\n",
      " 2   conversation  4906 non-null   object\n",
      "dtypes: int64(1), object(2)\n",
      "memory usage: 115.1+ KB\n",
      "None\n",
      "\n",
      "Test Data Info:\n",
      "<class 'pandas.core.frame.DataFrame'>\n",
      "Index: 500 entries, t_000 to t_499\n",
      "Data columns (total 1 columns):\n",
      " #   Column  Non-Null Count  Dtype \n",
      "---  ------  --------------  ----- \n",
      " 0   text    500 non-null    object\n",
      "dtypes: object(1)\n",
      "memory usage: 24.0+ KB\n",
      "None\n",
      "\n",
      "Submission Data Info:\n",
      "<class 'pandas.core.frame.DataFrame'>\n",
      "RangeIndex: 400 entries, 0 to 399\n",
      "Data columns (total 2 columns):\n",
      " #   Column     Non-Null Count  Dtype  \n",
      "---  ------     --------------  -----  \n",
      " 0   file_name  400 non-null    object \n",
      " 1   class      0 non-null      float64\n",
      "dtypes: float64(1), object(1)\n",
      "memory usage: 6.4+ KB\n",
      "None\n"
     ]
    }
   ],
   "source": [
    "# train 데이터 구조 및 통계 정보 확인\n",
    "print(\"\\nTrain Data Info:\")\n",
    "print(train_data.info())\n",
    "\n",
    "# test 데이터 구조 및 통계 정보 확인\n",
    "print(\"\\nTest Data Info:\")\n",
    "print(test_data.info())\n",
    "\n",
    "# submission 데이터 구조 및 통계 정보 확인\n",
    "print(\"\\nSubmission Data Info:\")\n",
    "print(submission_data.info())"
   ]
  },
  {
   "cell_type": "code",
   "execution_count": 5,
   "id": "c275ddd5",
   "metadata": {},
   "outputs": [
    {
     "name": "stdout",
     "output_type": "stream",
     "text": [
      "\n",
      "Train Data Missing Values:\n",
      "idx             0\n",
      "class           0\n",
      "conversation    0\n",
      "dtype: int64\n",
      "\n",
      "Test Data Missing Values:\n",
      "text    0\n",
      "dtype: int64\n",
      "\n",
      "Submission Data Missing Values:\n",
      "file_name      0\n",
      "class        400\n",
      "dtype: int64\n"
     ]
    }
   ],
   "source": [
    "# 결측치 확인\n",
    "print(\"\\nTrain Data Missing Values:\")\n",
    "print(train_data.isnull().sum())\n",
    "\n",
    "print(\"\\nTest Data Missing Values:\")\n",
    "print(test_data.isnull().sum())\n",
    "\n",
    "print(\"\\nSubmission Data Missing Values:\")\n",
    "print(submission_data.isnull().sum())\n"
   ]
  },
  {
   "cell_type": "code",
   "execution_count": 6,
   "id": "f50b5864",
   "metadata": {},
   "outputs": [
    {
     "name": "stdout",
     "output_type": "stream",
     "text": [
      "\n",
      "Train Data Missing Values:\n",
      "idx             0\n",
      "class           0\n",
      "conversation    0\n",
      "dtype: int64\n",
      "\n",
      "Test Data Missing Values:\n",
      "text    0\n",
      "dtype: int64\n",
      "\n",
      "Submission Data Missing Values:\n",
      "file_name      0\n",
      "class        400\n",
      "dtype: int64\n"
     ]
    }
   ],
   "source": [
    "# 결측치 확인\n",
    "print(\"\\nTrain Data Missing Values:\")\n",
    "print(train_data.isnull().sum())\n",
    "\n",
    "print(\"\\nTest Data Missing Values:\")\n",
    "print(test_data.isnull().sum())\n",
    "\n",
    "print(\"\\nSubmission Data Missing Values:\")\n",
    "print(submission_data.isnull().sum())\n"
   ]
  },
  {
   "cell_type": "code",
   "execution_count": 7,
   "id": "bee25f82",
   "metadata": {},
   "outputs": [
    {
     "name": "stdout",
     "output_type": "stream",
     "text": [
      "\n",
      "Train Data Label Distribution:\n",
      "기타 괴롭힘 대화      1094\n",
      "갈취 대화           981\n",
      "직장 내 괴롭힘 대화     979\n",
      "일반 대화           956\n",
      "협박 대화           896\n",
      "Name: class, dtype: int64\n"
     ]
    }
   ],
   "source": [
    "label_col = 'class' if 'class' in train_data.columns else train_data.columns[-1]  # Assuming label column is the last one if unnamed\n",
    "print(\"\\nTrain Data Label Distribution:\")\n",
    "print(train_data[label_col].value_counts())"
   ]
  },
  {
   "cell_type": "code",
   "execution_count": 8,
   "id": "0d5e7e98",
   "metadata": {},
   "outputs": [
    {
     "name": "stdout",
     "output_type": "stream",
     "text": [
      "\n",
      "Train Data Text Length Stats:\n",
      "count    4906.000000\n",
      "mean      258.097228\n",
      "std       143.286725\n",
      "min        41.000000\n",
      "25%       162.000000\n",
      "50%       218.000000\n",
      "75%       306.000000\n",
      "max       885.000000\n",
      "Name: text_length, dtype: float64\n",
      "\n",
      "Test Data Text Length Stats:\n",
      "count    500.000000\n",
      "mean     213.626000\n",
      "std      101.240473\n",
      "min       68.000000\n",
      "25%      143.000000\n",
      "50%      189.000000\n",
      "75%      253.500000\n",
      "max      722.000000\n",
      "Name: text_length, dtype: float64\n"
     ]
    }
   ],
   "source": [
    "# 텍스트 길이 분석\n",
    "text_col = 'conversation' if 'conversation' in train_data.columns else train_data.columns[0]  # Assuming text column is the first one if unnamed\n",
    "\n",
    "# 텍스트 데이터 타입 확인 및 정리\n",
    "train_data['text_length'] = train_data[text_col].apply(lambda x: len(str(x)) if isinstance(x, str) else 0)\n",
    "test_data['text_length'] = test_data['text'].apply(lambda x: len(str(x)) if isinstance(x, str) else 0)\n",
    "\n",
    "print(\"\\nTrain Data Text Length Stats:\")\n",
    "print(train_data['text_length'].describe())\n",
    "\n",
    "print(\"\\nTest Data Text Length Stats:\")\n",
    "print(test_data['text_length'].describe())"
   ]
  },
  {
   "cell_type": "code",
   "execution_count": 9,
   "id": "cb0ef39e",
   "metadata": {},
   "outputs": [
    {
     "data": {
      "image/png": "[encoded data removed]",
      "text/plain": [
       "<Figure size 864x432 with 1 Axes>"
      ]
     },
     "metadata": {
      "needs_background": "light"
     },
     "output_type": "display_data"
    }
   ],
   "source": [
    "import matplotlib.pyplot as plt\n",
    "import seaborn as sns\n",
    "\n",
    "# 텍스트 길이 분포 시각화\n",
    "plt.figure(figsize=(12, 6))\n",
    "sns.histplot(train_data['text_length'], bins=50, kde=True, color='blue', label='Train Data')\n",
    "sns.histplot(test_data['text_length'], bins=50, kde=True, color='green', label='Test Data')\n",
    "plt.legend()\n",
    "plt.title('Text Length Distribution')\n",
    "plt.xlabel('Text Length')\n",
    "plt.ylabel('Frequency')\n",
    "plt.show()"
   ]
  },
  {
   "cell_type": "code",
   "execution_count": null,
   "id": "3f600dc0",
   "metadata": {
    "scrolled": true
   },
   "outputs": [],
   "source": [
    "!apt-get update      \n",
    "!apt-get install fonts-nanum* #나눔글꼴 설치"
   ]
  },
  {
   "cell_type": "code",
   "execution_count": null,
   "id": "9f8b77e3",
   "metadata": {},
   "outputs": [],
   "source": [
    "import matplotlib.font_manager as fm\n",
    "\n",
    "\n",
    "fe = fm.FontEntry(fname=r'/usr/share/fonts/truetype/nanum/NanumGothic.ttf', name='NanumGothic') #파일 저장되어있는 경로와 이름 설정\n",
    "fm.fontManager.ttflist.insert(0, fe)  # Matplotlib에 폰트 추가\n",
    "plt.rcParams.update({'font.size': 10, 'font.family': 'NanumGothic'}) #폰트설정"
   ]
  },
  {
   "cell_type": "code",
   "execution_count": null,
   "id": "43800d0d",
   "metadata": {},
   "outputs": [],
   "source": [
    "from wordcloud import WordCloud\n",
    "from konlpy.tag import Okt\n",
    "import matplotlib.pyplot as plt\n",
    "import pandas as pd\n",
    "\n",
    "# 형태소 분석기 초기화\n",
    "okt = Okt()\n",
    "\n",
    "# 예시 폰트 경로\n",
    "font_path = '/usr/share/fonts/truetype/nanum/NanumGothic.ttf'\n",
    "\n",
    "# 텍스트 열 이름\n",
    "text_col = 'conversation' if 'conversation' in train_data.columns else train_data.columns[0]\n",
    "\n",
    "# 클래스별 단어 구름 시각화\n",
    "for label in train_data['class'].unique():\n",
    "    # 해당 클래스의 텍스트 추출\n",
    "    text = \" \".join(train_data[train_data['class'] == label][text_col].dropna().astype(str))\n",
    "    \n",
    "    # 형태소 분석을 통해 명사만 추출\n",
    "    tokens = okt.nouns(text)\n",
    "    \n",
    "    # 명사 리스트를 문자열로 변환\n",
    "    tokens_str = \" \".join(tokens)\n",
    "    \n",
    "    # 단어 구름 생성\n",
    "    wordcloud = WordCloud(font_path=font_path, width=800, height=400, background_color='white').generate(tokens_str)\n",
    "    \n",
    "    # 단어 구름 시각화\n",
    "    plt.figure(figsize=(10, 5))\n",
    "    plt.rcParams['font.family'] = 'NanumGothic'\n",
    "    plt.imshow(wordcloud, interpolation='bilinear')\n",
    "    plt.title(f'Word Cloud for Label {label}')\n",
    "    plt.axis('off')\n",
    "    plt.show()\n",
    "\n"
   ]
  },
  {
   "cell_type": "code",
   "execution_count": null,
   "id": "e6fce182",
   "metadata": {},
   "outputs": [],
   "source": [
    "# 클래스 분포 시각화\n",
    "plt.figure(figsize=(10, 6))\n",
    "sns.countplot(x='class', data=train_data)\n",
    "plt.title('Class Distribution in Train Data')\n",
    "plt.xlabel('Class')\n",
    "plt.ylabel('Count')\n",
    "plt.xticks(rotation=45)\n",
    "plt.show()"
   ]
  },
  {
   "cell_type": "code",
   "execution_count": null,
   "id": "151bd3f4",
   "metadata": {},
   "outputs": [],
   "source": [
    "# 텍스트 길이 계산\n",
    "train_data['text_length'] = train_data['conversation'].apply(lambda x: len(x.split()))\n",
    "\n",
    "# 클래스별 텍스트 길이 분포 시각화\n",
    "plt.figure(figsize=(12, 6))\n",
    "sns.boxplot(x='class', y='text_length', data=train_data)\n",
    "plt.title('Text Length Distribution by Class')\n",
    "plt.xlabel('Class')\n",
    "plt.ylabel('Text Length')\n",
    "plt.xticks(rotation=45)\n",
    "plt.show()"
   ]
  },
  {
   "cell_type": "code",
   "execution_count": null,
   "id": "c8fb5ccb",
   "metadata": {},
   "outputs": [],
   "source": [
    "from sklearn.feature_extraction.text import TfidfVectorizer\n",
    "import numpy as np\n",
    "\n",
    "# TF-IDF 벡터화\n",
    "vectorizer = TfidfVectorizer(max_features=5000)\n",
    "X_tfidf = vectorizer.fit_transform(train_data['conversation'])\n",
    "\n",
    "# 클래스별 중요한 단어 시각화\n",
    "classes = train_data['class'].unique()\n",
    "\n",
    "for cls in classes:\n",
    "    class_data = train_data[train_data['class'] == cls]['conversation']\n",
    "    class_tfidf = vectorizer.transform(class_data)\n",
    "    tfidf_means = np.mean(class_tfidf.toarray(), axis=0)\n",
    "    tfidf_indices = np.argsort(tfidf_means)[::-1][:10]  # 상위 10개 단어 선택\n",
    "    \n",
    "    words = np.array(vectorizer.get_feature_names_out())[tfidf_indices]\n",
    "    scores = tfidf_means[tfidf_indices]\n",
    "\n",
    "    plt.figure(figsize=(10, 5))\n",
    "    sns.barplot(x=scores, y=words)\n",
    "    plt.title(f'Top 10 TF-IDF Words for Class: {cls}')\n",
    "    plt.xlabel('TF-IDF Score')\n",
    "    plt.ylabel('Word')\n",
    "    plt.show()"
   ]
  },
  {
   "cell_type": "code",
   "execution_count": null,
   "id": "d52af140",
   "metadata": {},
   "outputs": [],
   "source": [
    "from collections import Counter\n",
    "import seaborn as sns\n",
    "\n",
    "# 형태소 분석기 초기화\n",
    "okt = Okt()\n",
    "\n",
    "# 모든 텍스트를 결합\n",
    "all_text = \" \".join(train_data['conversation'].dropna().astype(str))\n",
    "\n",
    "# 형태소 분석을 통해 명사만 추출\n",
    "nouns = okt.nouns(all_text)\n",
    "\n",
    "# 명사 빈도수 계산\n",
    "noun_counts = Counter(nouns)\n",
    "\n",
    "# 상위 20개 단어 추출\n",
    "top_nouns = noun_counts.most_common(20)\n",
    "\n",
    "# 단어와 빈도 분리 (리스트로 변환)\n",
    "words, counts = zip(*top_nouns)\n",
    "words = list(words)\n",
    "counts = list(counts)\n",
    "\n",
    "# 단어 빈도 시각화\n",
    "plt.figure(figsize=(12, 6))\n",
    "sns.barplot(x=counts, y=words)\n",
    "plt.title('Top 20 Words by Frequency')\n",
    "plt.xlabel('Frequency')\n",
    "plt.ylabel('Words')\n",
    "plt.show()"
   ]
  },
  {
   "cell_type": "code",
   "execution_count": null,
   "id": "a7debb69",
   "metadata": {},
   "outputs": [],
   "source": [
    "print(\"\\nTrain Data Text Length Stats:\")\n",
    "print(train_data['text_length'].describe())\n",
    "\n",
    "print(\"\\nTest Data Text Length Stats:\")\n",
    "print(test_data['text_length'].describe())\n"
   ]
  },
  {
   "cell_type": "markdown",
   "id": "a956e3aa",
   "metadata": {},
   "source": [
    "# 데이터 전처리"
   ]
  },
  {
   "cell_type": "code",
   "execution_count": null,
   "id": "3210c767",
   "metadata": {},
   "outputs": [],
   "source": [
    "import pandas as pd\n",
    "import numpy as np\n",
    "import re"
   ]
  },
  {
   "cell_type": "code",
   "execution_count": null,
   "id": "cb78262c",
   "metadata": {},
   "outputs": [],
   "source": [
    "train_data_path = 'Data/train.csv'\n",
    "train = pd.read_csv(train_data_path)\n",
    "train.drop_duplicates(subset=['conversation'],inplace = True) #중복제거\n",
    "train.head()\n",
    "\n",
    "test_data_path = 'Data/test.json'\n",
    "test = pd.read_json(test_data_path).T\n",
    "test.head()"
   ]
  },
  {
   "cell_type": "code",
   "execution_count": null,
   "id": "dc1a814a",
   "metadata": {},
   "outputs": [],
   "source": [
    "label_encoding = {\n",
    "    '협박 대화':0,\n",
    "    '기타 괴롭힘 대화':1,\n",
    "    '갈취 대화':2,\n",
    "    '직장 내 괴롭힘 대화':3\n",
    "}\n",
    "train['label'] = train['class'].map(label_encoding)"
   ]
  },
  {
   "cell_type": "markdown",
   "id": "ac742a6c",
   "metadata": {},
   "source": [
    "### 1. 띄어쓰기, 맞춤법"
   ]
  },
  {
   "cell_type": "code",
   "execution_count": null,
   "id": "a1d70f5e",
   "metadata": {},
   "outputs": [],
   "source": [
    "from bs4 import BeautifulSoup\n",
    "import requests\n",
    "import json\n",
    "import re\n",
    "\n",
    "# 맞춤법 검사를 수행하는 함수\n",
    "def spell_checking(sentence):\n",
    "    url = \"http://speller.cs.pusan.ac.kr/results\"  # 부산대 맞춤법 검사기\n",
    "    \n",
    "    data = {'text1': sentence}  # 수행 문장(sentence)을 data 딕셔너리에 할당\n",
    "    response = requests.post(url, data=data)  # POST 요청\n",
    "    soup = BeautifulSoup(response.text, 'html.parser')  # 응답 결과 - HTML 형식 파싱\n",
    "\n",
    "    # JavaScript에서 데이터를 추출\n",
    "    script = soup.find('script', text=re.compile('data = \\[\\{'))\n",
    "    if script is None:\n",
    "        return sentence\n",
    "    \n",
    "    # JavaScript 객체를 Python 딕셔너리로 변환\n",
    "    json_text = re.search(r'data = (\\[\\{.*\\}\\]);', script.string, re.DOTALL).group(1)\n",
    "    data = json.loads(json_text)\n",
    "    \n",
    "    # 교정된 문장이 있는지 확인하고 추출\n",
    "    if 'errInfo' in data[0] and data[0]['errInfo']:\n",
    "        corrected_sentence = sentence\n",
    "        for error in data[0]['errInfo']:\n",
    "            # 첫 번째 후보 단어로 대체\n",
    "            corrected_word = error['candWord'].split('|')[0]\n",
    "            corrected_sentence = corrected_sentence.replace(error['orgStr'], corrected_word)\n",
    "        \n",
    "        return corrected_sentence\n",
    "    else:\n",
    "        return sentence"
   ]
  },
  {
   "cell_type": "code",
   "execution_count": null,
   "id": "957aed06",
   "metadata": {},
   "outputs": [],
   "source": [
    "#train\n",
    "corrected_conversations = []#맞춤법 검사 수행 결과 list\n",
    "\n",
    "for conversation in train['conversation']:\n",
    "    corrected_conversation = spell_checking(conversation)\n",
    "    corrected_conversations.append(corrected_conversation)\n",
    "    \n",
    "train['corrected_conversation'] = corrected_conversations\n",
    "\n",
    "#test\n",
    "corrected_texts = []#맞춤법 검사 수행 결과 list\n",
    "\n",
    "for text in test['text']:\n",
    "    corrected_text = spell_checking(text)\n",
    "    corrected_texts.append(corrected_text)\n",
    "    \n",
    "test['corrected_text'] = corrected_texts"
   ]
  },
  {
   "cell_type": "code",
   "execution_count": null,
   "id": "60650c41",
   "metadata": {},
   "outputs": [],
   "source": [
    "train = train[['corrected_conversation','label']]\n",
    "test = test[['corrected_text']]\n",
    "\n",
    "#다시 열 이름 변경\n",
    "train = train.rename(columns={'corrected_conversation':'conversation','label':'class'})\n",
    "test = test.rename(columns={'corrected_text':'text'})"
   ]
  },
  {
   "cell_type": "markdown",
   "id": "307e8948",
   "metadata": {},
   "source": [
    "### 2. 문장 부호 정리"
   ]
  },
  {
   "cell_type": "code",
   "execution_count": null,
   "id": "5565abe6",
   "metadata": {},
   "outputs": [],
   "source": [
    "def preprocess_sentence(sentence):\n",
    "    sentence = re.sub(r'[\" \"]+', \" \", sentence) # 여러 공백을 하나의 공백으로 변환\n",
    "    sentence = re.sub(r'\\n', \" \", sentence) # tab을 공백으로 변환\n",
    "    \n",
    "    sentence = re.sub(r\"[^a-zA-Zㄱ-ㅣ가-힣0-9\\s]+\", \" \", sentence)#한글,영어,공백 제외한 문자 제거\n",
    "    sentence = sentence.strip() # 문자열의 양쪽 끝에 있는 모든 공백 제거\n",
    "    \n",
    "    return sentence"
   ]
  },
  {
   "cell_type": "code",
   "execution_count": null,
   "id": "1a014800",
   "metadata": {},
   "outputs": [],
   "source": [
    "#train\n",
    "train['conversation'] = train['conversation'].apply(preprocess_sentence)\n",
    "\n",
    "#test\n",
    "test['text'] = test['text'].apply(preprocess_sentence)"
   ]
  },
  {
   "cell_type": "markdown",
   "id": "1c1791fd",
   "metadata": {},
   "source": [
    "### 3. 불용어 처리"
   ]
  },
  {
   "cell_type": "code",
   "execution_count": null,
   "id": "f098d93a",
   "metadata": {},
   "outputs": [],
   "source": [
    "#불용어 불러오기\n",
    "stopword_path = 'Data/stopword.txt'\n",
    "stopword_file = open(stopword_path)\n",
    "stopword = []\n",
    "\n",
    "for i in stopword_file:\n",
    "    stopword.append(i.replace(\" \",\"\")) #공백 제거\n",
    "    \n",
    "for i in range(len(stopword)):\n",
    "    stopword[i] = stopword[i].replace('\\n',\"\")#tab제거\n",
    "    \n",
    "stopword_file.close()\n",
    "\n",
    "stopword[:10]"
   ]
  },
  {
   "cell_type": "code",
   "execution_count": null,
   "id": "5ae15fb2",
   "metadata": {},
   "outputs": [],
   "source": [
    "#mecab토큰화기준으로 불용어제거\n",
    "from konlpy.tag import Mecab\n",
    "from collections import Counter\n",
    "\n",
    "mecab = Mecab()\n",
    "\n",
    "def load_data(train, test):\n",
    "    #train\n",
    "    for sentence in train['conversation']:\n",
    "        mecab_train_tokens = [token for token in mecab.morphs(sentence) if token not in stopword] #불용어처리및토큰화\n",
    "        train['conversation'].apply(lambda x: ' '.join(mecab_train_tokens))\n",
    "        \n",
    "    #test    \n",
    "    for sentence in test['text']:\n",
    "        mecab_test_tokens = [token for token in mecab.morphs(sentence) if token not in stopword] #불용어처리및토큰화\n",
    "        test['text'].apply(lambda x: ' '.join(mecab_test_tokens))\n",
    "        \n",
    "    \n",
    "    return train, test"
   ]
  },
  {
   "cell_type": "code",
   "execution_count": null,
   "id": "604330e7",
   "metadata": {},
   "outputs": [],
   "source": [
    "train, test = load_data(train, test)"
   ]
  },
  {
   "cell_type": "code",
   "execution_count": null,
   "id": "e355a62b",
   "metadata": {},
   "outputs": [],
   "source": [
    "#전처리한 데이터를 csv파일로 재저장\n",
    "train.to_csv('processed_train2.csv',index=False)\n",
    "test.to_csv('processed_test2.csv',index=False)"
   ]
  },
  {
   "cell_type": "markdown",
   "id": "b7871af4",
   "metadata": {},
   "source": [
    "![pre](img/prepro.png)"
   ]
  }
 ],
 "metadata": {
  "kernelspec": {
   "display_name": "Python 3 (ipykernel)",
   "language": "python",
   "name": "python3"
  },
  "language_info": {
   "codemirror_mode": {
    "name": "ipython",
    "version": 3
   },
   "file_extension": ".py",
   "mimetype": "text/x-python",
   "name": "python",
   "nbconvert_exporter": "python",
   "pygments_lexer": "ipython3",
   "version": "3.9.19"
  }
 },
 "nbformat": 4,
 "nbformat_minor": 5
}
